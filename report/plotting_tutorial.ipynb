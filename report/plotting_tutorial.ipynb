{
 "cells": [
  {
   "cell_type": "markdown",
   "metadata": {},
   "source": [
    "# Plotting tutorial"
   ]
  },
  {
   "cell_type": "markdown",
   "metadata": {},
   "source": [
    "Properly graphing experiment outcomes is an extremely important skill for any Master of Science. \n",
    "\n",
    "In this example, we will take a look at how we can plot some data using NumPy and matplotlib in Python."
   ]
  },
  {
   "cell_type": "markdown",
   "metadata": {},
   "source": [
    "## Import numpy and matplotlib\n",
    "We first import numpy and matplotlib, as these are the libraries we need to use when plotting stuff, and maybe doing some calculations."
   ]
  },
  {
   "cell_type": "code",
   "execution_count": 1,
   "metadata": {},
   "outputs": [],
   "source": [
    "import numpy as np\n",
    "import matplotlib.pyplot as plt\n",
    "\n",
    "plt.rc('text', usetex=True)"
   ]
  },
  {
   "cell_type": "markdown",
   "metadata": {},
   "source": [
    "## Prepare your data set\n",
    "Suppose we are interested in the run time of a program versus its input size, on a specific machine.\n",
    "\n",
    "You might think: \"a computer operates in a completely deterministic way, thus I can exactly calculate the run time of my program\". \n",
    "Unfortunately this might only be true in theory. A modern computing system is so complex that there are a virtually infinite number of parameters to take into account. Examples include:\n",
    "* Processor\n",
    "* Memory\n",
    "* Mainboard chipset\n",
    "* Disk\n",
    "* Operating system\n",
    "* Compiler\n",
    "* Cache state\n",
    "* Other active processes\n",
    "* etc... (hundreds of others)\n",
    "\n",
    "In practise, this means we just consider the run time to be of a partially stochastic nature.\n",
    "\n",
    "To smooth out any noise, we __always__ repeat an experiment multiple times and report __at least__ the average run time.\n",
    "\n",
    "In the code below, we first fill in problem sizes to be plotted on the X axis. \n",
    "\n",
    "Then, we fill in all our measurements in a 2D-array and calculate the mean run time for each problem size."
   ]
  },
  {
   "cell_type": "code",
   "execution_count": 2,
   "metadata": {},
   "outputs": [
    {
     "name": "stdout",
     "output_type": "stream",
     "text": [
      "Problem sizes:\n",
      "[     1      2      4      8     16     32     64    128    256    512\n",
      "   1024   2048   4096   8192  16384  32768  65536 131072 262144 524288]\n",
      "Measurements:\n",
      "[[1.86000e-06 4.54000e-07 3.97000e-07 4.23000e-07]\n",
      " [4.29000e-07 4.00000e-07 4.23000e-07 3.94000e-07]\n",
      " [4.30000e-07 3.97000e-07 3.99000e-07 4.24000e-07]\n",
      " [4.70000e-07 4.25000e-07 4.20000e-07 4.17000e-07]\n",
      " [4.51000e-07 4.34000e-07 4.26000e-07 4.28000e-07]\n",
      " [4.47000e-07 4.49000e-07 4.46000e-07 4.42000e-07]\n",
      " [4.63000e-07 4.42000e-07 4.46000e-07 4.44000e-07]\n",
      " [5.50000e-07 5.13000e-07 4.91000e-07 4.96000e-07]\n",
      " [6.38000e-07 6.38000e-07 6.46000e-07 6.21000e-07]\n",
      " [8.88000e-07 8.99000e-07 8.89000e-07 9.10000e-07]\n",
      " [1.40100e-06 1.40400e-06 1.41700e-06 1.39400e-06]\n",
      " [2.50400e-06 2.43800e-06 2.42100e-06 2.45000e-06]\n",
      " [4.59000e-06 4.49000e-06 4.48200e-06 4.47900e-06]\n",
      " [8.91800e-06 8.58300e-06 8.57700e-06 8.57700e-06]\n",
      " [1.75490e-05 1.68840e-05 1.68450e-05 1.68200e-05]\n",
      " [3.43990e-05 3.38960e-05 3.38810e-05 3.38800e-05]\n",
      " [7.20750e-05 8.69850e-05 6.74840e-05 6.72750e-05]\n",
      " [1.39620e-04 1.33257e-04 1.33235e-04 1.33401e-04]\n",
      " [2.66024e-04 2.65128e-04 2.64816e-04 2.70784e-04]\n",
      " [5.34692e-04 5.29634e-04 5.24920e-04 5.28791e-04]]\n"
     ]
    }
   ],
   "source": [
    "# Read the data file\n",
    "data_lines = open(\"vec.csv\", \"r\").readlines();\n",
    "\n",
    "# Remove the header from the csv file\n",
    "data_lines.pop(0)\n",
    "\n",
    "# Figure out the number of columns\n",
    "num_cols = data_lines[1].count(',')\n",
    "\n",
    "# Get the problem sizes from the first column\n",
    "problem_sizes = np.genfromtxt(data_lines, delimiter=\",\", usecols=1, dtype=np.uint)\n",
    "\n",
    "# Get the results from the other columns. For this example, we are interested\n",
    "# in the float run-times only.\n",
    "# Our run times start in the fourth column and we've made four repeats.\n",
    "measurements = np.genfromtxt(data_lines, delimiter=\",\", usecols=range(4, 8))\n",
    "\n",
    "print(\"Problem sizes:\")\n",
    "print(problem_sizes)\n",
    "print(\"Measurements:\")\n",
    "print(measurements)"
   ]
  },
  {
   "cell_type": "code",
   "execution_count": 3,
   "metadata": {},
   "outputs": [
    {
     "name": "stdout",
     "output_type": "stream",
     "text": [
      "These are the means for each experiment:\n"
     ]
    },
    {
     "data": {
      "text/plain": [
       "array([7.8350000e-07, 4.1150000e-07, 4.1250000e-07, 4.3300000e-07,\n",
       "       4.3475000e-07, 4.4600000e-07, 4.4875000e-07, 5.1250000e-07,\n",
       "       6.3575000e-07, 8.9650000e-07, 1.4040000e-06, 2.4532500e-06,\n",
       "       4.5102500e-06, 8.6637500e-06, 1.7024500e-05, 3.4014000e-05,\n",
       "       7.3454750e-05, 1.3487825e-04, 2.6668800e-04, 5.2950925e-04])"
      ]
     },
     "execution_count": 3,
     "metadata": {},
     "output_type": "execute_result"
    }
   ],
   "source": [
    "# Calculate the means along the horizontal axis\n",
    "means = measurements.mean(axis=1)\n",
    "\n",
    "print(\"These are the means for each experiment:\")\n",
    "means"
   ]
  },
  {
   "cell_type": "markdown",
   "metadata": {},
   "source": [
    "## Plotting your data set\n",
    "Now that we've prepared the data that we want to plot, let's naively start plotting using pyplot."
   ]
  },
  {
   "cell_type": "code",
   "execution_count": 4,
   "metadata": {
    "scrolled": true
   },
   "outputs": [
    {
     "data": {
      "image/png": "[encoded data removed]",
      "text/plain": [
       "<Figure size 432x288 with 1 Axes>"
      ]
     },
     "metadata": {},
     "output_type": "display_data"
    }
   ],
   "source": [
    "fig, ax = plt.subplots()\n",
    "plot = ax.plot(problem_sizes, means)\n",
    "plt.show()"
   ]
  },
  {
   "cell_type": "markdown",
   "metadata": {},
   "source": [
    "Many things are very wrong with this plot. Sure, it's geometrically correct, but is it clearly conveying the information that we want to show to whomever we are going to report to?\n",
    "\n",
    "No. First of all, we made measurements at a discrete number of problem sizes and calculated the mean run time for each experiment. This graph currently implies we performed some continuous measurement over the X axis. To make our means stand out more clearly we should add markers. This will show whoever reads the graph that we made discrete measurements and the line is just an interpolation.\n",
    "\n",
    "In general, making things as clear as possible will make people we report to happy, as they need less time to understand what we are trying to say. This in turn will make us happy, as we will receive higher grades, salaries, etc... For example, if you would use the above plot in your master thesis, you are surely not going to get an approval for graduation. Time to step up our game!\n",
    "\n",
    "Let's first introduce the markers and see if the result is clear enough to report."
   ]
  },
  {
   "cell_type": "code",
   "execution_count": 5,
   "metadata": {
    "scrolled": true
   },
   "outputs": [
    {
     "data": {
      "image/png": "[encoded data removed]",
      "text/plain": [
       "<Figure size 432x288 with 1 Axes>"
      ]
     },
     "execution_count": 5,
     "metadata": {},
     "output_type": "execute_result"
    }
   ],
   "source": [
    "# To prevent making a new plot we can apply:\n",
    "for line in plot:\n",
    "    line.set_marker('o')\n",
    "\n",
    "# However, normally you can just plot it like this right away with:\n",
    "#   plot = ax.plot(problem_sizes, means, marker='o')\n",
    "\n",
    "# Show the plot\n",
    "fig"
   ]
  },
  {
   "cell_type": "markdown",
   "metadata": {},
   "source": [
    "This is better, but still not every clear. We have been growing the problem size exponentially. Because the plot uses linear axes, the results of the experiments with small problem sizes are somewhat pushed towards the origin, making them hard to read. We should therefore use log scale for the X axis.\n",
    "\n",
    "The default base for log scale is 10. We have grown the problem size exponentially using base 2, so it makes sense to apply base 2 to the X axis as well.\n",
    "\n",
    "We also change the x tick positions (where the labels on the x-axis) to be at our problem sizes. You can do that as long as the x-tick labels on the X axis do not start overlapping and become unreadable. In this case we only have 10 x-ticks, so it's still redable."
   ]
  },
  {
   "cell_type": "code",
   "execution_count": 6,
   "metadata": {},
   "outputs": [
    {
     "data": {
      "image/png": "[encoded data removed]",
      "text/plain": [
       "<Figure size 432x288 with 1 Axes>"
      ]
     },
     "execution_count": 6,
     "metadata": {},
     "output_type": "execute_result"
    }
   ],
   "source": [
    "ax.set_xscale('log', basex=2)\n",
    "#ax.set_xticks(problem_sizes)\n",
    "fig"
   ]
  },
  {
   "cell_type": "markdown",
   "metadata": {},
   "source": [
    "It has now become easier to discern the lower problem size outcomes from the higher problem size outcomes. However, to fit the longest run time in the graph, the Y axis has to span a huge range. This causes the short run times to be not clearly readable. It's a good idea to use log scale for the Y axis as well."
   ]
  },
  {
   "cell_type": "code",
   "execution_count": 7,
   "metadata": {},
   "outputs": [
    {
     "data": {
      "image/png": "[encoded data removed]",
      "text/plain": [
       "<Figure size 432x288 with 1 Axes>"
      ]
     },
     "execution_count": 7,
     "metadata": {},
     "output_type": "execute_result"
    }
   ],
   "source": [
    "ax.set_yscale('log')\n",
    "fig"
   ]
  },
  {
   "cell_type": "markdown",
   "metadata": {},
   "source": [
    "This looks much better, although for any plot it should always be clear what the axis represent. When you want to inspect the graph in more detail, a grid is also nice to have.\n",
    "\n",
    "It should also have a title, but we will do that in the report through LaTeX."
   ]
  },
  {
   "cell_type": "code",
   "execution_count": 8,
   "metadata": {},
   "outputs": [
    {
     "data": {
      "image/png": "[encoded data removed]",
      "text/plain": [
       "<Figure size 432x288 with 1 Axes>"
      ]
     },
     "execution_count": 8,
     "metadata": {},
     "output_type": "execute_result"
    }
   ],
   "source": [
    "# Set axis labels\n",
    "ax.set(xlabel='Problem size (elements)', ylabel='Run time (s)')\n",
    "\n",
    "# Enable a major and minor grid. \n",
    "# Only use a minor grid when it makes the graph more clear (e.g. the major ticks are very far apart).\n",
    "ax.grid(which='major', linestyle='-', color='gray')\n",
    "ax.grid(which='minor', linestyle='--', linewidth=0.5, color='silver')\n",
    "\n",
    "fig"
   ]
  },
  {
   "cell_type": "markdown",
   "metadata": {},
   "source": [
    "We now have a nice plot that is both readable and clear. It is now more likely that whoever has to inspect the plot will be happy! \n",
    "\n",
    "Let's output it as a PDF, so we don't get nasty pixely images, but a nicely vectorized version of our plot."
   ]
  },
  {
   "cell_type": "code",
   "execution_count": 9,
   "metadata": {},
   "outputs": [],
   "source": [
    "fig.savefig(\"lab1a.pdf\", bbox_inches='tight')"
   ]
  },
  {
   "cell_type": "markdown",
   "metadata": {},
   "source": [
    "You can now import the PDF into LaTeX."
   ]
  }
 ],
 "metadata": {
  "kernelspec": {
   "display_name": "Python 3",
   "language": "python",
   "name": "python3"
  },
  "language_info": {
   "codemirror_mode": {
    "name": "ipython",
    "version": 3
   },
   "file_extension": ".py",
   "mimetype": "text/x-python",
   "name": "python",
   "nbconvert_exporter": "python",
   "pygments_lexer": "ipython3",
   "version": "3.6.3"
  }
 },
 "nbformat": 4,
 "nbformat_minor": 2
}
